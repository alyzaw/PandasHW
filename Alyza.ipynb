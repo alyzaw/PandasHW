{
 "cells": [
  {
   "cell_type": "markdown",
   "metadata": {},
   "source": [
    "### Heroes Of Pymoli Data Analysis\n",
    "* Of the 1163 active players, the vast majority are male (84%). There also exists, a smaller, but notable proportion of female players (14%).\n",
    "\n",
    "* Our peak age demographic falls between 20-24 (44.8%) with secondary groups falling between 15-19 (18.60%) and 25-29 (13.4%).  \n",
    "-----"
   ]
  },
  {
   "cell_type": "code",
   "execution_count": 1,
   "metadata": {},
   "outputs": [],
   "source": [
    "# Dependencies and Setup\n",
    "import pandas as pd\n",
    "import numpy as np\n",
    "\n",
    "# File to Load (Remember to Change These)\n",
    "file_to_load = \"Resources/purchase_data.csv\"\n",
    "\n",
    "# Read Purchasing File and store into Pandas data frame\n",
    "purchase_data = pd.read_csv(file_to_load)"
   ]
  },
  {
   "cell_type": "markdown",
   "metadata": {},
   "source": [
    "## Player Count"
   ]
  },
  {
   "cell_type": "markdown",
   "metadata": {},
   "source": [
    "* Display the total number of players\n"
   ]
  },
  {
   "cell_type": "code",
   "execution_count": 2,
   "metadata": {},
   "outputs": [
    {
     "data": {
      "text/html": [
       "<div>\n",
       "<style scoped>\n",
       "    .dataframe tbody tr th:only-of-type {\n",
       "        vertical-align: middle;\n",
       "    }\n",
       "\n",
       "    .dataframe tbody tr th {\n",
       "        vertical-align: top;\n",
       "    }\n",
       "\n",
       "    .dataframe thead th {\n",
       "        text-align: right;\n",
       "    }\n",
       "</style>\n",
       "<table border=\"1\" class=\"dataframe\">\n",
       "  <thead>\n",
       "    <tr style=\"text-align: right;\">\n",
       "      <th></th>\n",
       "      <th>Total Players</th>\n",
       "    </tr>\n",
       "  </thead>\n",
       "  <tbody>\n",
       "    <tr>\n",
       "      <th>0</th>\n",
       "      <td>576</td>\n",
       "    </tr>\n",
       "  </tbody>\n",
       "</table>\n",
       "</div>"
      ],
      "text/plain": [
       "   Total Players\n",
       "0            576"
      ]
     },
     "execution_count": 2,
     "metadata": {},
     "output_type": "execute_result"
    }
   ],
   "source": [
    "unique_players = len(purchase_data.groupby([\"SN\"]))\n",
    "player_df = pd.DataFrame({\"Total Players\" : [unique_players]})\n",
    "player_df"
   ]
  },
  {
   "cell_type": "markdown",
   "metadata": {},
   "source": [
    "## Purchasing Analysis (Total)"
   ]
  },
  {
   "cell_type": "markdown",
   "metadata": {},
   "source": [
    "* Run basic calculations to obtain number of unique items, average price, etc.\n",
    "\n",
    "\n",
    "* Create a summary data frame to hold the results\n",
    "\n",
    "\n",
    "* Optional: give the displayed data cleaner formatting\n",
    "\n",
    "\n",
    "* Display the summary data frame\n"
   ]
  },
  {
   "cell_type": "code",
   "execution_count": 3,
   "metadata": {},
   "outputs": [],
   "source": [
    "unique_items = len(purchase_data[\"Item ID\"].unique())\n",
    "avg_price = purchase_data[\"Price\"].mean()\n",
    "purchase_count = purchase_data[\"Purchase ID\"].count()\n",
    "total_revenue = purchase_data[\"Price\"].sum()"
   ]
  },
  {
   "cell_type": "code",
   "execution_count": 4,
   "metadata": {},
   "outputs": [],
   "source": [
    "data_summary=pd.DataFrame({\"Number of Unique Items\" : [unique_items],\\\n",
    "                  \"Average Price\" : [avg_price],\\\n",
    "                  \"Number of Purchases\" : [purchase_count],\\\n",
    "                  \"Total Revenue\" : [total_revenue]})"
   ]
  },
  {
   "cell_type": "code",
   "execution_count": 5,
   "metadata": {},
   "outputs": [
    {
     "data": {
      "text/html": [
       "<div>\n",
       "<style scoped>\n",
       "    .dataframe tbody tr th:only-of-type {\n",
       "        vertical-align: middle;\n",
       "    }\n",
       "\n",
       "    .dataframe tbody tr th {\n",
       "        vertical-align: top;\n",
       "    }\n",
       "\n",
       "    .dataframe thead th {\n",
       "        text-align: right;\n",
       "    }\n",
       "</style>\n",
       "<table border=\"1\" class=\"dataframe\">\n",
       "  <thead>\n",
       "    <tr style=\"text-align: right;\">\n",
       "      <th></th>\n",
       "      <th>Number of Unique Items</th>\n",
       "      <th>Average Price</th>\n",
       "      <th>Number of Purchases</th>\n",
       "      <th>Total Revenue</th>\n",
       "    </tr>\n",
       "  </thead>\n",
       "  <tbody>\n",
       "    <tr>\n",
       "      <th>0</th>\n",
       "      <td>183</td>\n",
       "      <td>$3.05</td>\n",
       "      <td>780</td>\n",
       "      <td>$2379.77</td>\n",
       "    </tr>\n",
       "  </tbody>\n",
       "</table>\n",
       "</div>"
      ],
      "text/plain": [
       "   Number of Unique Items Average Price  Number of Purchases Total Revenue\n",
       "0                     183         $3.05                  780      $2379.77"
      ]
     },
     "execution_count": 5,
     "metadata": {},
     "output_type": "execute_result"
    }
   ],
   "source": [
    "data_summary[\"Average Price\"] = data_summary[\"Average Price\"].map(\"${:.2f}\".format)\n",
    "data_summary[\"Total Revenue\"] = data_summary[\"Total Revenue\"].map(\"${:.2f}\".format)\n",
    "\n",
    "data_summary"
   ]
  },
  {
   "cell_type": "markdown",
   "metadata": {},
   "source": [
    "## Gender Demographics"
   ]
  },
  {
   "cell_type": "markdown",
   "metadata": {},
   "source": [
    "* Percentage and Count of Male Players\n",
    "\n",
    "\n",
    "* Percentage and Count of Female Players\n",
    "\n",
    "\n",
    "* Percentage and Count of Other / Non-Disclosed\n",
    "\n",
    "\n"
   ]
  },
  {
   "cell_type": "markdown",
   "metadata": {},
   "source": [
    "\n",
    "## Purchasing Analysis (Gender)"
   ]
  },
  {
   "cell_type": "markdown",
   "metadata": {},
   "source": [
    "* Run basic calculations to obtain purchase count, avg. purchase price, avg. purchase total per person etc. by gender\n",
    "\n",
    "\n",
    "\n",
    "\n",
    "* Create a summary data frame to hold the results\n",
    "\n",
    "\n",
    "* Optional: give the displayed data cleaner formatting\n",
    "\n",
    "\n",
    "* Display the summary data frame"
   ]
  },
  {
   "cell_type": "code",
   "execution_count": 6,
   "metadata": {},
   "outputs": [],
   "source": [
    "unique_df = purchase_data.groupby([\"SN\",\"Gender\"]).mean()[\"Price\"]\n",
    "count_df = unique_df.groupby([\"Gender\"]).count()\n",
    "user_percent = count_df/unique_players"
   ]
  },
  {
   "cell_type": "code",
   "execution_count": 7,
   "metadata": {},
   "outputs": [],
   "source": [
    "total_purchases = purchase_data.groupby([\"Gender\"]).count()[\"Purchase ID\"]\n",
    "avg_price_df = unique_df.groupby([\"Gender\"]).mean()"
   ]
  },
  {
   "cell_type": "code",
   "execution_count": 8,
   "metadata": {},
   "outputs": [],
   "source": [
    "unique_sum = purchase_data.groupby([\"SN\",\"Gender\"]).sum()[\"Price\"]\n",
    "avg_sum = unique_sum.groupby([\"Gender\"]).mean()"
   ]
  },
  {
   "cell_type": "code",
   "execution_count": 9,
   "metadata": {},
   "outputs": [],
   "source": [
    "gender_analysis = pd.DataFrame({\"Gender\" : [\"Female\",\"Male\",\"Other\"],\\\n",
    "                                \"Count\" : [x for x in count_df],\\\n",
    "                                \"Percent\" : [x*100 for x in user_percent],\\\n",
    "                                \"Number of Purchases\" : [x for x in total_purchases],\\\n",
    "                                \"Average Price per Purchase\": [x for x in avg_price_df],\\\n",
    "                                \"Average Total per Person\" : [x for x in avg_sum]\n",
    "                               })"
   ]
  },
  {
   "cell_type": "code",
   "execution_count": 10,
   "metadata": {},
   "outputs": [
    {
     "data": {
      "text/html": [
       "<div>\n",
       "<style scoped>\n",
       "    .dataframe tbody tr th:only-of-type {\n",
       "        vertical-align: middle;\n",
       "    }\n",
       "\n",
       "    .dataframe tbody tr th {\n",
       "        vertical-align: top;\n",
       "    }\n",
       "\n",
       "    .dataframe thead th {\n",
       "        text-align: right;\n",
       "    }\n",
       "</style>\n",
       "<table border=\"1\" class=\"dataframe\">\n",
       "  <thead>\n",
       "    <tr style=\"text-align: right;\">\n",
       "      <th></th>\n",
       "      <th>Gender</th>\n",
       "      <th>Count</th>\n",
       "      <th>Percent</th>\n",
       "      <th>Number of Purchases</th>\n",
       "      <th>Average Price per Purchase</th>\n",
       "      <th>Average Total per Person</th>\n",
       "    </tr>\n",
       "  </thead>\n",
       "  <tbody>\n",
       "    <tr>\n",
       "      <th>0</th>\n",
       "      <td>Female</td>\n",
       "      <td>81</td>\n",
       "      <td>14.06%</td>\n",
       "      <td>113</td>\n",
       "      <td>$3.19</td>\n",
       "      <td>$4.47</td>\n",
       "    </tr>\n",
       "    <tr>\n",
       "      <th>1</th>\n",
       "      <td>Male</td>\n",
       "      <td>484</td>\n",
       "      <td>84.03%</td>\n",
       "      <td>652</td>\n",
       "      <td>$3.01</td>\n",
       "      <td>$4.07</td>\n",
       "    </tr>\n",
       "    <tr>\n",
       "      <th>2</th>\n",
       "      <td>Other</td>\n",
       "      <td>11</td>\n",
       "      <td>1.91%</td>\n",
       "      <td>15</td>\n",
       "      <td>$3.35</td>\n",
       "      <td>$4.56</td>\n",
       "    </tr>\n",
       "  </tbody>\n",
       "</table>\n",
       "</div>"
      ],
      "text/plain": [
       "   Gender  Count Percent  Number of Purchases Average Price per Purchase  \\\n",
       "0  Female     81  14.06%                  113                      $3.19   \n",
       "1    Male    484  84.03%                  652                      $3.01   \n",
       "2   Other     11   1.91%                   15                      $3.35   \n",
       "\n",
       "  Average Total per Person  \n",
       "0                    $4.47  \n",
       "1                    $4.07  \n",
       "2                    $4.56  "
      ]
     },
     "execution_count": 10,
     "metadata": {},
     "output_type": "execute_result"
    }
   ],
   "source": [
    "gender_analysis[\"Average Price per Purchase\"] = gender_analysis[\"Average Price per Purchase\"].map(\"${:.3}\".format)\n",
    "gender_analysis[\"Average Total per Person\"] = gender_analysis[\"Average Total per Person\"].map(\"${:.3}\".format)\n",
    "gender_analysis[\"Percent\"] = gender_analysis[\"Percent\"].map(\"{:.4}%\".format)\n",
    "\n",
    "gender_analysis"
   ]
  },
  {
   "cell_type": "markdown",
   "metadata": {},
   "source": [
    "## Age Demographics"
   ]
  },
  {
   "cell_type": "markdown",
   "metadata": {},
   "source": [
    "* Establish bins for ages\n",
    "\n",
    "\n",
    "* Categorize the existing players using the age bins. Hint: use pd.cut()\n",
    "\n",
    "\n",
    "* Calculate the numbers and percentages by age group\n",
    "\n",
    "\n",
    "* Create a summary data frame to hold the results\n",
    "\n",
    "\n",
    "* Optional: round the percentage column to two decimal points\n",
    "\n",
    "\n",
    "* Display Age Demographics Table\n"
   ]
  },
  {
   "cell_type": "markdown",
   "metadata": {},
   "source": [
    "## Purchasing Analysis (Age)"
   ]
  },
  {
   "cell_type": "markdown",
   "metadata": {},
   "source": [
    "* Bin the purchase_data data frame by age\n",
    "\n",
    "\n",
    "* Run basic calculations to obtain purchase count, avg. purchase price, avg. purchase total per person etc. in the table below\n",
    "\n",
    "\n",
    "* Create a summary data frame to hold the results\n",
    "\n",
    "\n",
    "* Optional: give the displayed data cleaner formatting\n",
    "\n",
    "\n",
    "* Display the summary data frame"
   ]
  },
  {
   "cell_type": "code",
   "execution_count": 11,
   "metadata": {},
   "outputs": [],
   "source": [
    "ages = [0,14,19,29,39,100]\n",
    "age_groups = [\"0-14\",\"15-19\",\"20s\",\"30s\",\"Over 40\"]\n",
    "\n",
    "purchase_data[\"Age Range\"] = pd.cut(purchase_data[\"Age\"], ages, labels=age_groups)\n",
    "age_data = purchase_data.groupby([\"SN\",\"Age Range\"]).sum().dropna()"
   ]
  },
  {
   "cell_type": "code",
   "execution_count": 12,
   "metadata": {},
   "outputs": [],
   "source": [
    "age__total_price = age_data.groupby([\"Age Range\"]).mean()[\"Price\"]\n",
    "age_count = age_data.groupby([\"Age Range\"]).count()[\"Price\"]\n",
    "age_percent = age_count/unique_players\n",
    "age_purchase_count = purchase_data.groupby([\"Age Range\"]).count()[\"Purchase ID\"]"
   ]
  },
  {
   "cell_type": "code",
   "execution_count": 13,
   "metadata": {},
   "outputs": [],
   "source": [
    "age_all = purchase_data.groupby([\"SN\",\"Age Range\"]).mean()[\"Price\"].dropna()\n",
    "age_avg_price = age_all.groupby([\"Age Range\"]).mean()"
   ]
  },
  {
   "cell_type": "code",
   "execution_count": 14,
   "metadata": {},
   "outputs": [],
   "source": [
    "age_analysis = pd.DataFrame({\"Age Range\" : [x for x in age_groups],\\\n",
    "                                \"Count\" : [x for x in age_count],\\\n",
    "                                \"Percent\" : [x*100 for x in age_percent],\\\n",
    "                                \"Number of Purchases\" : [x for x in age_purchase_count],\\\n",
    "                                \"Average Price per Purchase\": [x for x in age_avg_price],\\\n",
    "                                \"Average Total per Person\" : [x for x in age__total_price] \n",
    "                               })"
   ]
  },
  {
   "cell_type": "code",
   "execution_count": 15,
   "metadata": {},
   "outputs": [
    {
     "data": {
      "text/html": [
       "<div>\n",
       "<style scoped>\n",
       "    .dataframe tbody tr th:only-of-type {\n",
       "        vertical-align: middle;\n",
       "    }\n",
       "\n",
       "    .dataframe tbody tr th {\n",
       "        vertical-align: top;\n",
       "    }\n",
       "\n",
       "    .dataframe thead th {\n",
       "        text-align: right;\n",
       "    }\n",
       "</style>\n",
       "<table border=\"1\" class=\"dataframe\">\n",
       "  <thead>\n",
       "    <tr style=\"text-align: right;\">\n",
       "      <th></th>\n",
       "      <th>Age Range</th>\n",
       "      <th>Count</th>\n",
       "      <th>Percent</th>\n",
       "      <th>Number of Purchases</th>\n",
       "      <th>Average Price per Purchase</th>\n",
       "      <th>Average Total per Person</th>\n",
       "    </tr>\n",
       "  </thead>\n",
       "  <tbody>\n",
       "    <tr>\n",
       "      <th>0</th>\n",
       "      <td>0-14</td>\n",
       "      <td>39</td>\n",
       "      <td>6.77%</td>\n",
       "      <td>51</td>\n",
       "      <td>$3.24</td>\n",
       "      <td>$4.1</td>\n",
       "    </tr>\n",
       "    <tr>\n",
       "      <th>1</th>\n",
       "      <td>15-19</td>\n",
       "      <td>107</td>\n",
       "      <td>18.6%</td>\n",
       "      <td>136</td>\n",
       "      <td>$3.07</td>\n",
       "      <td>$3.86</td>\n",
       "    </tr>\n",
       "    <tr>\n",
       "      <th>2</th>\n",
       "      <td>20s</td>\n",
       "      <td>335</td>\n",
       "      <td>58.2%</td>\n",
       "      <td>466</td>\n",
       "      <td>$2.99</td>\n",
       "      <td>$4.2</td>\n",
       "    </tr>\n",
       "    <tr>\n",
       "      <th>3</th>\n",
       "      <td>30s</td>\n",
       "      <td>83</td>\n",
       "      <td>14.4%</td>\n",
       "      <td>114</td>\n",
       "      <td>$3.17</td>\n",
       "      <td>$4.36</td>\n",
       "    </tr>\n",
       "    <tr>\n",
       "      <th>4</th>\n",
       "      <td>Over 40</td>\n",
       "      <td>12</td>\n",
       "      <td>2.08%</td>\n",
       "      <td>13</td>\n",
       "      <td>$2.97</td>\n",
       "      <td>$3.19</td>\n",
       "    </tr>\n",
       "  </tbody>\n",
       "</table>\n",
       "</div>"
      ],
      "text/plain": [
       "  Age Range  Count Percent  Number of Purchases Average Price per Purchase  \\\n",
       "0      0-14     39   6.77%                   51                      $3.24   \n",
       "1     15-19    107   18.6%                  136                      $3.07   \n",
       "2       20s    335   58.2%                  466                      $2.99   \n",
       "3       30s     83   14.4%                  114                      $3.17   \n",
       "4   Over 40     12   2.08%                   13                      $2.97   \n",
       "\n",
       "  Average Total per Person  \n",
       "0                     $4.1  \n",
       "1                    $3.86  \n",
       "2                     $4.2  \n",
       "3                    $4.36  \n",
       "4                    $3.19  "
      ]
     },
     "execution_count": 15,
     "metadata": {},
     "output_type": "execute_result"
    }
   ],
   "source": [
    "age_analysis[\"Average Price per Purchase\"] = age_analysis[\"Average Price per Purchase\"].map(\"${:.3}\".format)\n",
    "age_analysis[\"Average Total per Person\"] = age_analysis[\"Average Total per Person\"].map(\"${:.3}\".format)\n",
    "age_analysis[\"Percent\"] = age_analysis[\"Percent\"].map(\"{:.3}%\".format)\n",
    "age_analysis"
   ]
  },
  {
   "cell_type": "markdown",
   "metadata": {},
   "source": [
    "## Top Spenders"
   ]
  },
  {
   "cell_type": "markdown",
   "metadata": {},
   "source": [
    "* Run basic calculations to obtain the results in the table below\n",
    "\n",
    "\n",
    "* Create a summary data frame to hold the results\n",
    "\n",
    "\n",
    "* Sort the total purchase value column in descending order\n",
    "\n",
    "\n",
    "* Optional: give the displayed data cleaner formatting\n",
    "\n",
    "\n",
    "* Display a preview of the summary data frame\n",
    "\n"
   ]
  },
  {
   "cell_type": "code",
   "execution_count": 16,
   "metadata": {},
   "outputs": [],
   "source": [
    "purchase_data[\"Player\"] = purchase_data[\"SN\"]"
   ]
  },
  {
   "cell_type": "code",
   "execution_count": 17,
   "metadata": {},
   "outputs": [],
   "source": [
    "purchase_amt = purchase_data.groupby([\"SN\"]).sum()\n",
    "purchase_amt = purchase_amt.sort_values(\"Price\", ascending=False)\n",
    "top_five = purchase_amt.head()\n",
    "top_five = pd.merge(top_five, purchase_data, on=\"SN\", how=\"left\")"
   ]
  },
  {
   "cell_type": "code",
   "execution_count": 18,
   "metadata": {},
   "outputs": [],
   "source": [
    "top_five = top_five[[\"SN\",\"Player\",\"Price_y\",\"Price_x\"]]\n",
    "top_five = top_five.set_index(\"SN\")"
   ]
  },
  {
   "cell_type": "code",
   "execution_count": 19,
   "metadata": {},
   "outputs": [],
   "source": [
    "top_unique = top_five.groupby(\"SN\").first()\n",
    "\n",
    "top_users = top_unique[\"Player\"]\n",
    "top_purchase = top_unique[\"Price_x\"]\n",
    "top_avg = top_unique.groupby([\"Player\"]).mean()[\"Price_y\"]\n",
    "top_unique = top_five.groupby(\"SN\").first()\n",
    "\n",
    "top_users = top_unique[\"Player\"]\n",
    "top_purchase = top_unique[\"Price_x\"]\n",
    "top_avg = top_unique.groupby([\"Player\"]).mean()[\"Price_y\"]"
   ]
  },
  {
   "cell_type": "code",
   "execution_count": 20,
   "metadata": {},
   "outputs": [],
   "source": [
    "count_five = top_five.groupby(\"SN\").count()"
   ]
  },
  {
   "cell_type": "code",
   "execution_count": 21,
   "metadata": {},
   "outputs": [],
   "source": [
    "top_unique[\"Count\"] = count_five[\"Player\"]\n",
    "top_count = top_unique[\"Count\"]"
   ]
  },
  {
   "cell_type": "code",
   "execution_count": 22,
   "metadata": {},
   "outputs": [],
   "source": [
    "top_df = pd.DataFrame({\"Player\" : [x for x in top_users],\\\n",
    "                       \"Count\" : [x for x in top_count],\\\n",
    "                       \"Average Purchase Price\" : [x for x in top_avg],\\\n",
    "                       \"Total Purchase Price\" : [x for x in top_purchase]})\n",
    "top_df = top_df.sort_values(\"Total Purchase Price\", ascending=False)"
   ]
  },
  {
   "cell_type": "code",
   "execution_count": 23,
   "metadata": {},
   "outputs": [
    {
     "data": {
      "text/html": [
       "<div>\n",
       "<style scoped>\n",
       "    .dataframe tbody tr th:only-of-type {\n",
       "        vertical-align: middle;\n",
       "    }\n",
       "\n",
       "    .dataframe tbody tr th {\n",
       "        vertical-align: top;\n",
       "    }\n",
       "\n",
       "    .dataframe thead th {\n",
       "        text-align: right;\n",
       "    }\n",
       "</style>\n",
       "<table border=\"1\" class=\"dataframe\">\n",
       "  <thead>\n",
       "    <tr style=\"text-align: right;\">\n",
       "      <th></th>\n",
       "      <th>Player</th>\n",
       "      <th>Count</th>\n",
       "      <th>Average Purchase Price</th>\n",
       "      <th>Total Purchase Price</th>\n",
       "    </tr>\n",
       "  </thead>\n",
       "  <tbody>\n",
       "    <tr>\n",
       "      <th>4</th>\n",
       "      <td>Lisosia93</td>\n",
       "      <td>5</td>\n",
       "      <td>$4.64</td>\n",
       "      <td>$18.96</td>\n",
       "    </tr>\n",
       "    <tr>\n",
       "      <th>1</th>\n",
       "      <td>Idastidru52</td>\n",
       "      <td>4</td>\n",
       "      <td>$4.93</td>\n",
       "      <td>$15.45</td>\n",
       "    </tr>\n",
       "    <tr>\n",
       "      <th>0</th>\n",
       "      <td>Chamjask73</td>\n",
       "      <td>3</td>\n",
       "      <td>$4.23</td>\n",
       "      <td>$13.83</td>\n",
       "    </tr>\n",
       "    <tr>\n",
       "      <th>2</th>\n",
       "      <td>Iral74</td>\n",
       "      <td>4</td>\n",
       "      <td>$4.14</td>\n",
       "      <td>$13.62</td>\n",
       "    </tr>\n",
       "    <tr>\n",
       "      <th>3</th>\n",
       "      <td>Iskadarya95</td>\n",
       "      <td>3</td>\n",
       "      <td>$4.03</td>\n",
       "      <td>$13.1</td>\n",
       "    </tr>\n",
       "  </tbody>\n",
       "</table>\n",
       "</div>"
      ],
      "text/plain": [
       "        Player  Count Average Purchase Price Total Purchase Price\n",
       "4    Lisosia93      5                  $4.64               $18.96\n",
       "1  Idastidru52      4                  $4.93               $15.45\n",
       "0   Chamjask73      3                  $4.23               $13.83\n",
       "2       Iral74      4                  $4.14               $13.62\n",
       "3  Iskadarya95      3                  $4.03                $13.1"
      ]
     },
     "execution_count": 23,
     "metadata": {},
     "output_type": "execute_result"
    }
   ],
   "source": [
    "top_df[\"Average Purchase Price\"] = top_df[\"Average Purchase Price\"].map(\"${:.3}\".format)\n",
    "top_df[\"Total Purchase Price\"] = top_df[\"Total Purchase Price\"].map(\"${:.4}\".format)\n",
    "top_df"
   ]
  },
  {
   "cell_type": "markdown",
   "metadata": {},
   "source": [
    "## Most Popular Items"
   ]
  },
  {
   "cell_type": "markdown",
   "metadata": {},
   "source": [
    "* Retrieve the Item ID, Item Name, and Item Price columns\n",
    "\n",
    "\n",
    "* Group by Item ID and Item Name. Perform calculations to obtain purchase count, item price, and total purchase value\n",
    "\n",
    "\n",
    "* Create a summary data frame to hold the results\n",
    "\n",
    "\n",
    "* Sort the purchase count column in descending order\n",
    "\n",
    "\n",
    "* Optional: give the displayed data cleaner formatting\n",
    "\n",
    "\n",
    "* Display a preview of the summary data frame\n",
    "\n"
   ]
  },
  {
   "cell_type": "code",
   "execution_count": 24,
   "metadata": {},
   "outputs": [],
   "source": [
    "popular = purchase_data[[\"Item ID\",\"Item Name\",\"Price\"]].sort_values(\"Item ID\")\n",
    "popular[\"ID Item\"] = popular[\"Item ID\"]\n",
    "pop_df = popular.set_index(\"Item ID\")\n",
    "\n",
    "pop_grp = pop_df.groupby([\"Item ID\",\"Item Name\"])\n",
    "pop_count = pop_grp[\"ID Item\"].value_counts()"
   ]
  },
  {
   "cell_type": "code",
   "execution_count": 25,
   "metadata": {},
   "outputs": [],
   "source": [
    "pop_unique = pop_df.groupby(\"Item ID\").first()\n",
    "\n",
    "pop_id = pop_unique[\"ID Item\"]\n",
    "pop_price = pop_unique[\"Price\"]\n",
    "pop_name = pop_unique[\"Item Name\"]"
   ]
  },
  {
   "cell_type": "code",
   "execution_count": 26,
   "metadata": {},
   "outputs": [],
   "source": [
    "popular_df = pd.DataFrame({\"Item ID\" : [x for x in pop_id],\\\n",
    "                           \"Item Name\" : [x for x in pop_name],\\\n",
    "                           \"Count\" : [x for x in pop_count],\\\n",
    "                          \"Price\" : [x for x in pop_price]})"
   ]
  },
  {
   "cell_type": "code",
   "execution_count": 27,
   "metadata": {},
   "outputs": [],
   "source": [
    "popular_df[\"Total\"] = popular_df[\"Count\"] * popular_df[\"Price\"]"
   ]
  },
  {
   "cell_type": "code",
   "execution_count": 28,
   "metadata": {},
   "outputs": [],
   "source": [
    "most_popular_df = popular_df.sort_values(\"Count\", ascending=False)"
   ]
  },
  {
   "cell_type": "code",
   "execution_count": 29,
   "metadata": {},
   "outputs": [
    {
     "data": {
      "text/html": [
       "<div>\n",
       "<style scoped>\n",
       "    .dataframe tbody tr th:only-of-type {\n",
       "        vertical-align: middle;\n",
       "    }\n",
       "\n",
       "    .dataframe tbody tr th {\n",
       "        vertical-align: top;\n",
       "    }\n",
       "\n",
       "    .dataframe thead th {\n",
       "        text-align: right;\n",
       "    }\n",
       "</style>\n",
       "<table border=\"1\" class=\"dataframe\">\n",
       "  <thead>\n",
       "    <tr style=\"text-align: right;\">\n",
       "      <th></th>\n",
       "      <th>Item ID</th>\n",
       "      <th>Item Name</th>\n",
       "      <th>Count</th>\n",
       "      <th>Price</th>\n",
       "      <th>Total</th>\n",
       "    </tr>\n",
       "  </thead>\n",
       "  <tbody>\n",
       "    <tr>\n",
       "      <th>177</th>\n",
       "      <td>178</td>\n",
       "      <td>Oathbreaker, Last Hope of the Breaking Storm</td>\n",
       "      <td>12</td>\n",
       "      <td>$4.23</td>\n",
       "      <td>$50.76</td>\n",
       "    </tr>\n",
       "    <tr>\n",
       "      <th>144</th>\n",
       "      <td>145</td>\n",
       "      <td>Fiery Glass Crusader</td>\n",
       "      <td>9</td>\n",
       "      <td>$4.58</td>\n",
       "      <td>$41.22</td>\n",
       "    </tr>\n",
       "    <tr>\n",
       "      <th>107</th>\n",
       "      <td>108</td>\n",
       "      <td>Extraction, Quickblade Of Trembling Hands</td>\n",
       "      <td>9</td>\n",
       "      <td>$3.53</td>\n",
       "      <td>$31.77</td>\n",
       "    </tr>\n",
       "    <tr>\n",
       "      <th>81</th>\n",
       "      <td>82</td>\n",
       "      <td>Nirvana</td>\n",
       "      <td>9</td>\n",
       "      <td>$4.9</td>\n",
       "      <td>$44.1</td>\n",
       "    </tr>\n",
       "    <tr>\n",
       "      <th>19</th>\n",
       "      <td>19</td>\n",
       "      <td>Pursuit, Cudgel of Necromancy</td>\n",
       "      <td>8</td>\n",
       "      <td>$1.02</td>\n",
       "      <td>$8.16</td>\n",
       "    </tr>\n",
       "    <tr>\n",
       "      <th>102</th>\n",
       "      <td>103</td>\n",
       "      <td>Singed Scalpel</td>\n",
       "      <td>8</td>\n",
       "      <td>$4.35</td>\n",
       "      <td>$34.8</td>\n",
       "    </tr>\n",
       "    <tr>\n",
       "      <th>74</th>\n",
       "      <td>75</td>\n",
       "      <td>Brutality Ivory Warmace</td>\n",
       "      <td>8</td>\n",
       "      <td>$2.42</td>\n",
       "      <td>$19.36</td>\n",
       "    </tr>\n",
       "    <tr>\n",
       "      <th>71</th>\n",
       "      <td>72</td>\n",
       "      <td>Winter's Bite</td>\n",
       "      <td>8</td>\n",
       "      <td>$3.77</td>\n",
       "      <td>$30.16</td>\n",
       "    </tr>\n",
       "    <tr>\n",
       "      <th>59</th>\n",
       "      <td>60</td>\n",
       "      <td>Wolf</td>\n",
       "      <td>8</td>\n",
       "      <td>$3.54</td>\n",
       "      <td>$28.32</td>\n",
       "    </tr>\n",
       "    <tr>\n",
       "      <th>58</th>\n",
       "      <td>59</td>\n",
       "      <td>Lightning, Etcher of the King</td>\n",
       "      <td>8</td>\n",
       "      <td>$4.23</td>\n",
       "      <td>$33.84</td>\n",
       "    </tr>\n",
       "  </tbody>\n",
       "</table>\n",
       "</div>"
      ],
      "text/plain": [
       "     Item ID                                     Item Name  Count  Price  \\\n",
       "177      178  Oathbreaker, Last Hope of the Breaking Storm     12  $4.23   \n",
       "144      145                          Fiery Glass Crusader      9  $4.58   \n",
       "107      108     Extraction, Quickblade Of Trembling Hands      9  $3.53   \n",
       "81        82                                       Nirvana      9   $4.9   \n",
       "19        19                 Pursuit, Cudgel of Necromancy      8  $1.02   \n",
       "102      103                                Singed Scalpel      8  $4.35   \n",
       "74        75                       Brutality Ivory Warmace      8  $2.42   \n",
       "71        72                                 Winter's Bite      8  $3.77   \n",
       "59        60                                          Wolf      8  $3.54   \n",
       "58        59                 Lightning, Etcher of the King      8  $4.23   \n",
       "\n",
       "      Total  \n",
       "177  $50.76  \n",
       "144  $41.22  \n",
       "107  $31.77  \n",
       "81    $44.1  \n",
       "19    $8.16  \n",
       "102   $34.8  \n",
       "74   $19.36  \n",
       "71   $30.16  \n",
       "59   $28.32  \n",
       "58   $33.84  "
      ]
     },
     "execution_count": 29,
     "metadata": {},
     "output_type": "execute_result"
    }
   ],
   "source": [
    "most_popular_df[\"Price\"] = popular_df[\"Price\"].map(\"${:.3}\".format)\n",
    "most_popular_df[\"Total\"] = popular_df[\"Total\"].map(\"${:.4}\".format)\n",
    "most_popular_df.head(10)"
   ]
  },
  {
   "cell_type": "markdown",
   "metadata": {},
   "source": [
    "## Most Profitable Items"
   ]
  },
  {
   "cell_type": "markdown",
   "metadata": {},
   "source": [
    "* Sort the above table by total purchase value in descending order\n",
    "\n",
    "\n",
    "* Optional: give the displayed data cleaner formatting\n",
    "\n",
    "\n",
    "* Display a preview of the data frame\n",
    "\n"
   ]
  },
  {
   "cell_type": "code",
   "execution_count": 30,
   "metadata": {},
   "outputs": [],
   "source": [
    "most_profit_df = popular_df.sort_values(\"Total\", ascending=False)"
   ]
  },
  {
   "cell_type": "code",
   "execution_count": 31,
   "metadata": {
    "scrolled": true
   },
   "outputs": [
    {
     "data": {
      "text/html": [
       "<div>\n",
       "<style scoped>\n",
       "    .dataframe tbody tr th:only-of-type {\n",
       "        vertical-align: middle;\n",
       "    }\n",
       "\n",
       "    .dataframe tbody tr th {\n",
       "        vertical-align: top;\n",
       "    }\n",
       "\n",
       "    .dataframe thead th {\n",
       "        text-align: right;\n",
       "    }\n",
       "</style>\n",
       "<table border=\"1\" class=\"dataframe\">\n",
       "  <thead>\n",
       "    <tr style=\"text-align: right;\">\n",
       "      <th></th>\n",
       "      <th>Item ID</th>\n",
       "      <th>Item Name</th>\n",
       "      <th>Count</th>\n",
       "      <th>Price</th>\n",
       "      <th>Total</th>\n",
       "    </tr>\n",
       "  </thead>\n",
       "  <tbody>\n",
       "    <tr>\n",
       "      <th>177</th>\n",
       "      <td>178</td>\n",
       "      <td>Oathbreaker, Last Hope of the Breaking Storm</td>\n",
       "      <td>12</td>\n",
       "      <td>$4.23</td>\n",
       "      <td>$50.76</td>\n",
       "    </tr>\n",
       "    <tr>\n",
       "      <th>81</th>\n",
       "      <td>82</td>\n",
       "      <td>Nirvana</td>\n",
       "      <td>9</td>\n",
       "      <td>$4.9</td>\n",
       "      <td>$44.1</td>\n",
       "    </tr>\n",
       "    <tr>\n",
       "      <th>144</th>\n",
       "      <td>145</td>\n",
       "      <td>Fiery Glass Crusader</td>\n",
       "      <td>9</td>\n",
       "      <td>$4.58</td>\n",
       "      <td>$41.22</td>\n",
       "    </tr>\n",
       "    <tr>\n",
       "      <th>91</th>\n",
       "      <td>92</td>\n",
       "      <td>Final Critic</td>\n",
       "      <td>8</td>\n",
       "      <td>$4.88</td>\n",
       "      <td>$39.04</td>\n",
       "    </tr>\n",
       "    <tr>\n",
       "      <th>102</th>\n",
       "      <td>103</td>\n",
       "      <td>Singed Scalpel</td>\n",
       "      <td>8</td>\n",
       "      <td>$4.35</td>\n",
       "      <td>$34.8</td>\n",
       "    </tr>\n",
       "    <tr>\n",
       "      <th>58</th>\n",
       "      <td>59</td>\n",
       "      <td>Lightning, Etcher of the King</td>\n",
       "      <td>8</td>\n",
       "      <td>$4.23</td>\n",
       "      <td>$33.84</td>\n",
       "    </tr>\n",
       "    <tr>\n",
       "      <th>107</th>\n",
       "      <td>108</td>\n",
       "      <td>Extraction, Quickblade Of Trembling Hands</td>\n",
       "      <td>9</td>\n",
       "      <td>$3.53</td>\n",
       "      <td>$31.77</td>\n",
       "    </tr>\n",
       "    <tr>\n",
       "      <th>77</th>\n",
       "      <td>78</td>\n",
       "      <td>Glimmer, Ender of the Moon</td>\n",
       "      <td>7</td>\n",
       "      <td>$4.4</td>\n",
       "      <td>$30.8</td>\n",
       "    </tr>\n",
       "    <tr>\n",
       "      <th>71</th>\n",
       "      <td>72</td>\n",
       "      <td>Winter's Bite</td>\n",
       "      <td>8</td>\n",
       "      <td>$3.77</td>\n",
       "      <td>$30.16</td>\n",
       "    </tr>\n",
       "    <tr>\n",
       "      <th>59</th>\n",
       "      <td>60</td>\n",
       "      <td>Wolf</td>\n",
       "      <td>8</td>\n",
       "      <td>$3.54</td>\n",
       "      <td>$28.32</td>\n",
       "    </tr>\n",
       "  </tbody>\n",
       "</table>\n",
       "</div>"
      ],
      "text/plain": [
       "     Item ID                                     Item Name  Count  Price  \\\n",
       "177      178  Oathbreaker, Last Hope of the Breaking Storm     12  $4.23   \n",
       "81        82                                       Nirvana      9   $4.9   \n",
       "144      145                          Fiery Glass Crusader      9  $4.58   \n",
       "91        92                                  Final Critic      8  $4.88   \n",
       "102      103                                Singed Scalpel      8  $4.35   \n",
       "58        59                 Lightning, Etcher of the King      8  $4.23   \n",
       "107      108     Extraction, Quickblade Of Trembling Hands      9  $3.53   \n",
       "77        78                    Glimmer, Ender of the Moon      7   $4.4   \n",
       "71        72                                 Winter's Bite      8  $3.77   \n",
       "59        60                                          Wolf      8  $3.54   \n",
       "\n",
       "      Total  \n",
       "177  $50.76  \n",
       "81    $44.1  \n",
       "144  $41.22  \n",
       "91   $39.04  \n",
       "102   $34.8  \n",
       "58   $33.84  \n",
       "107  $31.77  \n",
       "77    $30.8  \n",
       "71   $30.16  \n",
       "59   $28.32  "
      ]
     },
     "execution_count": 31,
     "metadata": {},
     "output_type": "execute_result"
    }
   ],
   "source": [
    "most_profit_df[\"Price\"] = most_profit_df[\"Price\"].map(\"${:.3}\".format)\n",
    "most_profit_df[\"Total\"] = most_profit_df[\"Total\"].map(\"${:.4}\".format)\n",
    "most_profit_df.head(10)"
   ]
  },
  {
   "cell_type": "markdown",
   "metadata": {},
   "source": [
    "### Final Analysis\n",
    "* Over half of all the users are in their 20s.\n",
    "\n",
    "* Even though males make up most of the players, all individual players spend a comparable amount of money regardless of their gender.\n",
    "\n",
    "* \"Oathbreaker, Last hope of the Breaking Storm\" is the most popular and most profitable game by a pretty good margin."
   ]
  },
  {
   "cell_type": "code",
   "execution_count": null,
   "metadata": {},
   "outputs": [],
   "source": []
  }
 ],
 "metadata": {
  "anaconda-cloud": {},
  "kernel_info": {
   "name": "python3"
  },
  "kernelspec": {
   "display_name": "Python 3",
   "language": "python",
   "name": "python3"
  },
  "language_info": {
   "codemirror_mode": {
    "name": "ipython",
    "version": 3
   },
   "file_extension": ".py",
   "mimetype": "text/x-python",
   "name": "python",
   "nbconvert_exporter": "python",
   "pygments_lexer": "ipython3",
   "version": "3.7.0"
  },
  "nteract": {
   "version": "0.2.0"
  }
 },
 "nbformat": 4,
 "nbformat_minor": 2
}
